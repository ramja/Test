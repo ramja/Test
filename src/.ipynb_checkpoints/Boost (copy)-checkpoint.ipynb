{
 "cells": [
  {
   "cell_type": "code",
   "execution_count": 89,
   "metadata": {
    "collapsed": false
   },
   "outputs": [],
   "source": [
    "from pandas import *\n",
    "from rpy2.robjects.packages import importr\n",
    "import rpy2.robjects as ro\n",
    "import pandas.rpy.common as com"
   ]
  },
  {
   "cell_type": "code",
   "execution_count": 90,
   "metadata": {
    "collapsed": false
   },
   "outputs": [],
   "source": [
    "ro.r('datos.ori<-read.csv(\"Miroculus.test.csv\", header = FALSE, sep = \",\",  dec=\".\", fill = TRUE)')\n",
    "ro.r('datos<-datos.ori[-1]')\n",
    "ro.r('corr<-cor(datos)')\n",
    "pyCorr=com.load_data('corr')\n",
    "\n"
   ]
  },
  {
   "cell_type": "code",
   "execution_count": 91,
   "metadata": {
    "collapsed": false
   },
   "outputs": [
    {
     "data": {
      "text/html": [
       "<div>\n",
       "<table border=\"1\" class=\"dataframe\">\n",
       "  <thead>\n",
       "    <tr style=\"text-align: right;\">\n",
       "      <th></th>\n",
       "      <th>V2</th>\n",
       "      <th>V3</th>\n",
       "      <th>V4</th>\n",
       "      <th>V5</th>\n",
       "      <th>V6</th>\n",
       "      <th>V7</th>\n",
       "      <th>V8</th>\n",
       "      <th>V9</th>\n",
       "      <th>V10</th>\n",
       "      <th>V11</th>\n",
       "      <th>V12</th>\n",
       "      <th>V13</th>\n",
       "      <th>V14</th>\n",
       "    </tr>\n",
       "  </thead>\n",
       "  <tbody>\n",
       "    <tr>\n",
       "      <th>V2</th>\n",
       "      <td>1.000000</td>\n",
       "      <td>-0.091342</td>\n",
       "      <td>0.094470</td>\n",
       "      <td>0.273950</td>\n",
       "      <td>0.218126</td>\n",
       "      <td>0.010280</td>\n",
       "      <td>0.095703</td>\n",
       "      <td>-0.404431</td>\n",
       "      <td>0.061907</td>\n",
       "      <td>0.174342</td>\n",
       "      <td>0.151944</td>\n",
       "      <td>0.363000</td>\n",
       "      <td>0.119224</td>\n",
       "    </tr>\n",
       "    <tr>\n",
       "      <th>V3</th>\n",
       "      <td>-0.091342</td>\n",
       "      <td>1.000000</td>\n",
       "      <td>0.079614</td>\n",
       "      <td>-0.049232</td>\n",
       "      <td>-0.190095</td>\n",
       "      <td>0.058035</td>\n",
       "      <td>0.024327</td>\n",
       "      <td>-0.065261</td>\n",
       "      <td>0.118955</td>\n",
       "      <td>0.083631</td>\n",
       "      <td>0.051800</td>\n",
       "      <td>0.085400</td>\n",
       "      <td>0.367408</td>\n",
       "    </tr>\n",
       "    <tr>\n",
       "      <th>V4</th>\n",
       "      <td>0.094470</td>\n",
       "      <td>0.079614</td>\n",
       "      <td>1.000000</td>\n",
       "      <td>-0.033835</td>\n",
       "      <td>0.069433</td>\n",
       "      <td>0.021794</td>\n",
       "      <td>0.090181</td>\n",
       "      <td>-0.311208</td>\n",
       "      <td>0.276313</td>\n",
       "      <td>0.132134</td>\n",
       "      <td>0.076307</td>\n",
       "      <td>0.177488</td>\n",
       "      <td>0.249069</td>\n",
       "    </tr>\n",
       "    <tr>\n",
       "      <th>V5</th>\n",
       "      <td>0.273950</td>\n",
       "      <td>-0.049232</td>\n",
       "      <td>-0.033835</td>\n",
       "      <td>1.000000</td>\n",
       "      <td>0.173093</td>\n",
       "      <td>0.097736</td>\n",
       "      <td>0.119716</td>\n",
       "      <td>-0.037152</td>\n",
       "      <td>0.046068</td>\n",
       "      <td>0.218016</td>\n",
       "      <td>0.179086</td>\n",
       "      <td>0.076662</td>\n",
       "      <td>0.151894</td>\n",
       "    </tr>\n",
       "    <tr>\n",
       "      <th>V6</th>\n",
       "      <td>0.218126</td>\n",
       "      <td>-0.190095</td>\n",
       "      <td>0.069433</td>\n",
       "      <td>0.173093</td>\n",
       "      <td>1.000000</td>\n",
       "      <td>0.041123</td>\n",
       "      <td>0.164140</td>\n",
       "      <td>-0.017495</td>\n",
       "      <td>0.039850</td>\n",
       "      <td>0.025092</td>\n",
       "      <td>0.003797</td>\n",
       "      <td>0.136109</td>\n",
       "      <td>0.023626</td>\n",
       "    </tr>\n",
       "    <tr>\n",
       "      <th>V7</th>\n",
       "      <td>0.010280</td>\n",
       "      <td>0.058035</td>\n",
       "      <td>0.021794</td>\n",
       "      <td>0.097736</td>\n",
       "      <td>0.041123</td>\n",
       "      <td>1.000000</td>\n",
       "      <td>-0.039712</td>\n",
       "      <td>0.064576</td>\n",
       "      <td>0.022828</td>\n",
       "      <td>-0.085796</td>\n",
       "      <td>-0.008297</td>\n",
       "      <td>0.070842</td>\n",
       "      <td>0.051796</td>\n",
       "    </tr>\n",
       "    <tr>\n",
       "      <th>V8</th>\n",
       "      <td>0.095703</td>\n",
       "      <td>0.024327</td>\n",
       "      <td>0.090181</td>\n",
       "      <td>0.119716</td>\n",
       "      <td>0.164140</td>\n",
       "      <td>-0.039712</td>\n",
       "      <td>1.000000</td>\n",
       "      <td>-0.095944</td>\n",
       "      <td>0.148955</td>\n",
       "      <td>0.118540</td>\n",
       "      <td>0.116194</td>\n",
       "      <td>0.097169</td>\n",
       "      <td>0.011275</td>\n",
       "    </tr>\n",
       "    <tr>\n",
       "      <th>V9</th>\n",
       "      <td>-0.404431</td>\n",
       "      <td>-0.065261</td>\n",
       "      <td>-0.311208</td>\n",
       "      <td>-0.037152</td>\n",
       "      <td>-0.017495</td>\n",
       "      <td>0.064576</td>\n",
       "      <td>-0.095944</td>\n",
       "      <td>1.000000</td>\n",
       "      <td>-0.318531</td>\n",
       "      <td>-0.316401</td>\n",
       "      <td>-0.341757</td>\n",
       "      <td>-0.251407</td>\n",
       "      <td>-0.246790</td>\n",
       "    </tr>\n",
       "    <tr>\n",
       "      <th>V10</th>\n",
       "      <td>0.061907</td>\n",
       "      <td>0.118955</td>\n",
       "      <td>0.276313</td>\n",
       "      <td>0.046068</td>\n",
       "      <td>0.039850</td>\n",
       "      <td>0.022828</td>\n",
       "      <td>0.148955</td>\n",
       "      <td>-0.318531</td>\n",
       "      <td>1.000000</td>\n",
       "      <td>0.197354</td>\n",
       "      <td>0.167899</td>\n",
       "      <td>0.139755</td>\n",
       "      <td>0.245420</td>\n",
       "    </tr>\n",
       "    <tr>\n",
       "      <th>V11</th>\n",
       "      <td>0.174342</td>\n",
       "      <td>0.083631</td>\n",
       "      <td>0.132134</td>\n",
       "      <td>0.218016</td>\n",
       "      <td>0.025092</td>\n",
       "      <td>-0.085796</td>\n",
       "      <td>0.118540</td>\n",
       "      <td>-0.316401</td>\n",
       "      <td>0.197354</td>\n",
       "      <td>1.000000</td>\n",
       "      <td>0.517458</td>\n",
       "      <td>0.217879</td>\n",
       "      <td>0.321391</td>\n",
       "    </tr>\n",
       "    <tr>\n",
       "      <th>V12</th>\n",
       "      <td>0.151944</td>\n",
       "      <td>0.051800</td>\n",
       "      <td>0.076307</td>\n",
       "      <td>0.179086</td>\n",
       "      <td>0.003797</td>\n",
       "      <td>-0.008297</td>\n",
       "      <td>0.116194</td>\n",
       "      <td>-0.341757</td>\n",
       "      <td>0.167899</td>\n",
       "      <td>0.517458</td>\n",
       "      <td>1.000000</td>\n",
       "      <td>0.092794</td>\n",
       "      <td>0.289168</td>\n",
       "    </tr>\n",
       "    <tr>\n",
       "      <th>V13</th>\n",
       "      <td>0.363000</td>\n",
       "      <td>0.085400</td>\n",
       "      <td>0.177488</td>\n",
       "      <td>0.076662</td>\n",
       "      <td>0.136109</td>\n",
       "      <td>0.070842</td>\n",
       "      <td>0.097169</td>\n",
       "      <td>-0.251407</td>\n",
       "      <td>0.139755</td>\n",
       "      <td>0.217879</td>\n",
       "      <td>0.092794</td>\n",
       "      <td>1.000000</td>\n",
       "      <td>0.196137</td>\n",
       "    </tr>\n",
       "    <tr>\n",
       "      <th>V14</th>\n",
       "      <td>0.119224</td>\n",
       "      <td>0.367408</td>\n",
       "      <td>0.249069</td>\n",
       "      <td>0.151894</td>\n",
       "      <td>0.023626</td>\n",
       "      <td>0.051796</td>\n",
       "      <td>0.011275</td>\n",
       "      <td>-0.246790</td>\n",
       "      <td>0.245420</td>\n",
       "      <td>0.321391</td>\n",
       "      <td>0.289168</td>\n",
       "      <td>0.196137</td>\n",
       "      <td>1.000000</td>\n",
       "    </tr>\n",
       "  </tbody>\n",
       "</table>\n",
       "</div>"
      ],
      "text/plain": [
       "           V2        V3        V4        V5        V6        V7        V8  \\\n",
       "V2   1.000000 -0.091342  0.094470  0.273950  0.218126  0.010280  0.095703   \n",
       "V3  -0.091342  1.000000  0.079614 -0.049232 -0.190095  0.058035  0.024327   \n",
       "V4   0.094470  0.079614  1.000000 -0.033835  0.069433  0.021794  0.090181   \n",
       "V5   0.273950 -0.049232 -0.033835  1.000000  0.173093  0.097736  0.119716   \n",
       "V6   0.218126 -0.190095  0.069433  0.173093  1.000000  0.041123  0.164140   \n",
       "V7   0.010280  0.058035  0.021794  0.097736  0.041123  1.000000 -0.039712   \n",
       "V8   0.095703  0.024327  0.090181  0.119716  0.164140 -0.039712  1.000000   \n",
       "V9  -0.404431 -0.065261 -0.311208 -0.037152 -0.017495  0.064576 -0.095944   \n",
       "V10  0.061907  0.118955  0.276313  0.046068  0.039850  0.022828  0.148955   \n",
       "V11  0.174342  0.083631  0.132134  0.218016  0.025092 -0.085796  0.118540   \n",
       "V12  0.151944  0.051800  0.076307  0.179086  0.003797 -0.008297  0.116194   \n",
       "V13  0.363000  0.085400  0.177488  0.076662  0.136109  0.070842  0.097169   \n",
       "V14  0.119224  0.367408  0.249069  0.151894  0.023626  0.051796  0.011275   \n",
       "\n",
       "           V9       V10       V11       V12       V13       V14  \n",
       "V2  -0.404431  0.061907  0.174342  0.151944  0.363000  0.119224  \n",
       "V3  -0.065261  0.118955  0.083631  0.051800  0.085400  0.367408  \n",
       "V4  -0.311208  0.276313  0.132134  0.076307  0.177488  0.249069  \n",
       "V5  -0.037152  0.046068  0.218016  0.179086  0.076662  0.151894  \n",
       "V6  -0.017495  0.039850  0.025092  0.003797  0.136109  0.023626  \n",
       "V7   0.064576  0.022828 -0.085796 -0.008297  0.070842  0.051796  \n",
       "V8  -0.095944  0.148955  0.118540  0.116194  0.097169  0.011275  \n",
       "V9   1.000000 -0.318531 -0.316401 -0.341757 -0.251407 -0.246790  \n",
       "V10 -0.318531  1.000000  0.197354  0.167899  0.139755  0.245420  \n",
       "V11 -0.316401  0.197354  1.000000  0.517458  0.217879  0.321391  \n",
       "V12 -0.341757  0.167899  0.517458  1.000000  0.092794  0.289168  \n",
       "V13 -0.251407  0.139755  0.217879  0.092794  1.000000  0.196137  \n",
       "V14 -0.246790  0.245420  0.321391  0.289168  0.196137  1.000000  "
      ]
     },
     "execution_count": 91,
     "metadata": {},
     "output_type": "execute_result"
    }
   ],
   "source": [
    "pyCorr"
   ]
  },
  {
   "cell_type": "code",
   "execution_count": 92,
   "metadata": {
    "collapsed": false
   },
   "outputs": [],
   "source": [
    "ro.r('val<-datos.ori[which(datos.ori[\"V1\"]!=\"?\"),]')\n",
    "ro.r('m <- dim(val)[1]')\n",
    "ro.r('testdtlength <- round(m/3)')\n",
    "ro.r('sam <- sample(1:m, size = round(m/3), replace = FALSE, prob = rep(1/m, m)) ')\n",
    "ro.r('datos.learn <- val[-sam,]')\n",
    "ro.r('datos.valid <- val[sam,]')\n",
    "pyDatosLearn=com.load_data('datos.learn')\n",
    "pyDatosValid=com.load_data('datos.valid')"
   ]
  },
  {
   "cell_type": "code",
   "execution_count": null,
   "metadata": {
    "collapsed": false
   },
   "outputs": [],
   "source": []
  },
  {
   "cell_type": "code",
   "execution_count": 93,
   "metadata": {
    "collapsed": false
   },
   "outputs": [],
   "source": [
    "import numpy\n",
    "dataOrig=pandas.read_csv(\"Miroculus.test.csv\", header = 0, sep = \",\")\n",
    "coVariables =dataOrig.ix[:, dataOrig.columns != '1']\n",
    "Cov=numpy.cov(numpy.asarray(coVariables))"
   ]
  },
  {
   "cell_type": "code",
   "execution_count": 94,
   "metadata": {
    "collapsed": false
   },
   "outputs": [
    {
     "data": {
      "text/plain": [
       "array([[ 24710.380695  ,  12173.74408064,  11967.52845707, ...,\n",
       "         13646.26257413,   9418.45829902,  13019.61728816],\n",
       "       [ 12173.74408064,   6649.4363543 ,   6411.00516113, ...,\n",
       "          7421.67274735,   5549.08714033,   7036.52741161],\n",
       "       [ 11967.52845707,   6411.00516113,   6283.14845593, ...,\n",
       "          7162.77928822,   5279.88289844,   6924.33184199],\n",
       "       ..., \n",
       "       [ 13646.26257413,   7421.67274735,   7162.77928822, ...,\n",
       "          8292.84783286,   6178.4537191 ,   7870.32420693],\n",
       "       [  9418.45829902,   5549.08714033,   5279.88289844, ...,\n",
       "          6178.4537191 ,   4858.66642996,   5834.35090791],\n",
       "       [ 13019.61728816,   7036.52741161,   6924.33184199, ...,\n",
       "          7870.32420693,   5834.35090791,   7670.42808578]])"
      ]
     },
     "execution_count": 94,
     "metadata": {},
     "output_type": "execute_result"
    }
   ],
   "source": [
    "Cov"
   ]
  },
  {
   "cell_type": "code",
   "execution_count": null,
   "metadata": {
    "collapsed": true
   },
   "outputs": [],
   "source": []
  },
  {
   "cell_type": "code",
   "execution_count": 106,
   "metadata": {
    "collapsed": false
   },
   "outputs": [
    {
     "data": {
      "text/plain": [
       "AdaBoostClassifier(algorithm='SAMME',\n",
       "          base_estimator=SVC(C=1000, cache_size=200, class_weight=None, coef0=0.0,\n",
       "  decision_function_shape=None, degree=3, gamma=0.0001, kernel='rbf',\n",
       "  max_iter=-1, probability=False, random_state=None, shrinking=True,\n",
       "  tol=0.001, verbose=False),\n",
       "          learning_rate=1.0, n_estimators=200, random_state=None)"
      ]
     },
     "execution_count": 106,
     "metadata": {},
     "output_type": "execute_result"
    }
   ],
   "source": [
    "import numpy as np\n",
    "#import matplotlib.pyplot as plt\n",
    "\n",
    "from sklearn.ensemble import AdaBoostClassifier\n",
    "from sklearn.svm import SVC\n",
    "\n",
    "XLearn = pyDatosLearn.ix[:, pyDatosLearn.columns != 'V1']\n",
    "YLearn = pyDatosLearn['V1']\n",
    "\n",
    "\n",
    "# Create and fit an AdaBoosted decision tree\n",
    "mod = AdaBoostClassifier(SVC(gamma=.0001, C=1000),\n",
    "                         algorithm=\"SAMME\",\n",
    "                         n_estimators=200)\n",
    "\n",
    "mod.fit(np.asarray(XLearn),np.asarray(YLearn))"
   ]
  },
  {
   "cell_type": "code",
   "execution_count": 112,
   "metadata": {
    "collapsed": false
   },
   "outputs": [
    {
     "data": {
      "text/plain": [
       "0.80000000000000004"
      ]
     },
     "execution_count": 112,
     "metadata": {},
     "output_type": "execute_result"
    }
   ],
   "source": [
    "from sklearn.metrics import accuracy_score\n",
    "XValid = pyDatosValid.ix[:, pyDatosValid.columns != 'V1']\n",
    "YValid = pyDatosValid['V1']\n",
    "\n",
    "YPredic = mod.predict(np.asarray(XValid))\n",
    "\n",
    "accuracy_score(np.asarray(YValid),YPredic)\n"
   ]
  },
  {
   "cell_type": "code",
   "execution_count": 114,
   "metadata": {
    "collapsed": false
   },
   "outputs": [
    {
     "data": {
      "text/plain": [
       "0.82222222222222219"
      ]
     },
     "execution_count": 114,
     "metadata": {},
     "output_type": "execute_result"
    }
   ],
   "source": [
    "import numpy as np\n",
    "#import matplotlib.pyplot as plt\n",
    "\n",
    "from sklearn.ensemble import AdaBoostClassifier\n",
    "from sklearn.ensemble import RandomForestClassifier\n",
    "\n",
    "XLearn = pyDatosLearn.ix[:, pyDatosLearn.columns != 'V1']\n",
    "YLearn = pyDatosLearn['V1']\n",
    "\n",
    "\n",
    "# Create and fit an AdaBoosted decision tree\n",
    "mod = AdaBoostClassifier(RandomForestClassifier(max_depth=5, n_estimators=200, max_features=1),\n",
    "                         algorithm=\"SAMME.R\",\n",
    "                         n_estimators=200)\n",
    "\n",
    "mod.fit(np.asarray(XLearn),np.asarray(YLearn))\n",
    "\n",
    "YPredic = mod.predict(np.asarray(XValid))\n",
    "\n",
    "accuracy_score(np.asarray(YValid),YPredic)\n"
   ]
  },
  {
   "cell_type": "code",
   "execution_count": 88,
   "metadata": {
    "collapsed": false
   },
   "outputs": [
    {
     "data": {
      "text/plain": [
       "94                                                      1\n",
       "63                                                      2\n",
       "159                                                     2\n",
       "103                                                     2\n",
       "100                                                     2\n",
       "205                                                     1\n",
       "153                                                     2\n",
       "226                                                     2\n",
       "147                                                     1\n",
       "229                                                     2\n",
       "233                                                     2\n",
       "189                                                     2\n",
       "164                                                     1\n",
       "259                                                     1\n",
       "234                                                     1\n",
       "254                                                     2\n",
       "231                                                     1\n",
       "202                                                     1\n",
       "60                                                      1\n",
       "198                                                     2\n",
       "242                                                     2\n",
       "177                                                     1\n",
       "72                                                      2\n",
       "134                                                     1\n",
       "192                                                     1\n",
       "243                                                     2\n",
       "257                                                     2\n",
       "175                                                     2\n",
       "57                                                      1\n",
       "14                                                      1\n",
       "42                                                      2\n",
       "252                                                     2\n",
       "140                                                     2\n",
       "49                                                      1\n",
       "135                                                     2\n",
       "264                                                     2\n",
       "265                                                     1\n",
       "71                                                      1\n",
       "45                                                      1\n",
       "204                                                     1\n",
       "41                                                      1\n",
       "219                                                     2\n",
       "128                                                     2\n",
       "85                                                      2\n",
       "212                                                     2\n",
       "Pred    [2, 2, 2, 2, 2, 2, 2, 2, 2, 2, 2, 2, 2, 2, 2, ...\n",
       "Name: V1, dtype: object"
      ]
     },
     "execution_count": 88,
     "metadata": {},
     "output_type": "execute_result"
    }
   ],
   "source": [
    "from sklearn.ensemble import RandomForestClassifier"
   ]
  },
  {
   "cell_type": "code",
   "execution_count": null,
   "metadata": {
    "collapsed": true
   },
   "outputs": [],
   "source": []
  }
 ],
 "metadata": {
  "kernelspec": {
   "display_name": "Python 3",
   "language": "python",
   "name": "python3"
  },
  "language_info": {
   "codemirror_mode": {
    "name": "ipython",
    "version": 3
   },
   "file_extension": ".py",
   "mimetype": "text/x-python",
   "name": "python",
   "nbconvert_exporter": "python",
   "pygments_lexer": "ipython3",
   "version": "3.5.1"
  }
 },
 "nbformat": 4,
 "nbformat_minor": 0
}
